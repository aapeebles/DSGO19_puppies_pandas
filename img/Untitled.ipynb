{
 "cells": [
  {
   "cell_type": "code",
   "execution_count": null,
   "metadata": {},
   "outputs": [],
   "source": [
    "intakes['date_i'] = intakes.datetime.apply(lambda x: x[:10])\n",
    "\n",
    "# convert date formats\n",
    "intakes['date_i'] =  pd.to_datetime(intakes['date_i'], format='%m/%d/%Y')\n",
    "\n",
    "# get more date info\n",
    "intakes['month_i'] = intakes['date_i'].apply(lambda x: x.month)\n",
    "intake_data['year'] = intakes['date_i'].apply(lambda x: x.year)\n",
    "intakes['weekday_i'] = intakes['date_i'].apply(lambda x: x.weekday())"
   ]
  }
 ],
 "metadata": {
  "kernelspec": {
   "display_name": "Python 3",
   "language": "python",
   "name": "python3"
  },
  "language_info": {
   "codemirror_mode": {
    "name": "ipython",
    "version": 3
   },
   "file_extension": ".py",
   "mimetype": "text/x-python",
   "name": "python",
   "nbconvert_exporter": "python",
   "pygments_lexer": "ipython3",
   "version": "3.7.3"
  }
 },
 "nbformat": 4,
 "nbformat_minor": 4
}
